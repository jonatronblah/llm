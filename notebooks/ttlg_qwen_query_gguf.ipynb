{
 "cells": [
  {
   "cell_type": "code",
   "execution_count": 1,
   "id": "a20d128c-3165-4aa1-8e84-c7e6a7d01a9e",
   "metadata": {},
   "outputs": [],
   "source": [
    "from llama_index.core.node_parser import SentenceSplitter\n",
    "from llama_index.llms.llama_cpp import LlamaCPP\n",
    "from llama_index.core import Settings\n",
    "from llama_index.core import StorageContext\n",
    "from llama_index.core import VectorStoreIndex\n",
    "from llama_index.vector_stores.postgres import PGVectorStore\n",
    "from llama_index.core import Document\n",
    "from llama_index.embeddings.huggingface import HuggingFaceEmbedding\n",
    "from llama_index.core import Settings\n",
    "from transformers import AutoTokenizer\n",
    "from llama_index.core import set_global_tokenizer\n",
    "from llama_index.core.node_parser import HTMLNodeParser\n",
    "from pathlib import Path\n",
    "from bs4 import BeautifulSoup\n",
    "import psycopg\n",
    "from llama_index.core import PromptTemplate"
   ]
  },
  {
   "cell_type": "code",
   "execution_count": 2,
   "id": "4ffb32d9-8777-4f89-b8a1-00b09bbba951",
   "metadata": {},
   "outputs": [
    {
     "data": {
      "application/vnd.jupyter.widget-view+json": {
       "model_id": "746ff8126f78466ebe97cef7702f04af",
       "version_major": 2,
       "version_minor": 0
      },
      "text/plain": [
       "modules.json:   0%|          | 0.00/349 [00:00<?, ?B/s]"
      ]
     },
     "metadata": {},
     "output_type": "display_data"
    },
    {
     "data": {
      "application/vnd.jupyter.widget-view+json": {
       "model_id": "04024a85fca14cd293d5d700bab9da45",
       "version_major": 2,
       "version_minor": 0
      },
      "text/plain": [
       "config_sentence_transformers.json:   0%|          | 0.00/124 [00:00<?, ?B/s]"
      ]
     },
     "metadata": {},
     "output_type": "display_data"
    },
    {
     "data": {
      "application/vnd.jupyter.widget-view+json": {
       "model_id": "33da5882663d487395994b78b578dcaf",
       "version_major": 2,
       "version_minor": 0
      },
      "text/plain": [
       "README.md:   0%|          | 0.00/94.6k [00:00<?, ?B/s]"
      ]
     },
     "metadata": {},
     "output_type": "display_data"
    },
    {
     "data": {
      "application/vnd.jupyter.widget-view+json": {
       "model_id": "07f30e8a30964652be869038ae44cb5a",
       "version_major": 2,
       "version_minor": 0
      },
      "text/plain": [
       "sentence_bert_config.json:   0%|          | 0.00/52.0 [00:00<?, ?B/s]"
      ]
     },
     "metadata": {},
     "output_type": "display_data"
    },
    {
     "data": {
      "application/vnd.jupyter.widget-view+json": {
       "model_id": "79c267c28bdb4e2eabe89a320b0f90ed",
       "version_major": 2,
       "version_minor": 0
      },
      "text/plain": [
       "config.json:   0%|          | 0.00/777 [00:00<?, ?B/s]"
      ]
     },
     "metadata": {},
     "output_type": "display_data"
    },
    {
     "data": {
      "application/vnd.jupyter.widget-view+json": {
       "model_id": "e45aa60bf07644a38e94d249ad955b28",
       "version_major": 2,
       "version_minor": 0
      },
      "text/plain": [
       "model.safetensors:   0%|          | 0.00/438M [00:00<?, ?B/s]"
      ]
     },
     "metadata": {},
     "output_type": "display_data"
    },
    {
     "data": {
      "application/vnd.jupyter.widget-view+json": {
       "model_id": "2a8bcee206884e62ac502e096254c0ae",
       "version_major": 2,
       "version_minor": 0
      },
      "text/plain": [
       "tokenizer_config.json:   0%|          | 0.00/366 [00:00<?, ?B/s]"
      ]
     },
     "metadata": {},
     "output_type": "display_data"
    },
    {
     "data": {
      "application/vnd.jupyter.widget-view+json": {
       "model_id": "97bd982ee5914651833db30a1d9166c6",
       "version_major": 2,
       "version_minor": 0
      },
      "text/plain": [
       "vocab.txt:   0%|          | 0.00/232k [00:00<?, ?B/s]"
      ]
     },
     "metadata": {},
     "output_type": "display_data"
    },
    {
     "data": {
      "application/vnd.jupyter.widget-view+json": {
       "model_id": "e204f202c62442e8b1de8ca435e4e790",
       "version_major": 2,
       "version_minor": 0
      },
      "text/plain": [
       "tokenizer.json:   0%|          | 0.00/711k [00:00<?, ?B/s]"
      ]
     },
     "metadata": {},
     "output_type": "display_data"
    },
    {
     "data": {
      "application/vnd.jupyter.widget-view+json": {
       "model_id": "b5a8ed1f9cc44063ac594b1d2abbb09d",
       "version_major": 2,
       "version_minor": 0
      },
      "text/plain": [
       "special_tokens_map.json:   0%|          | 0.00/125 [00:00<?, ?B/s]"
      ]
     },
     "metadata": {},
     "output_type": "display_data"
    },
    {
     "data": {
      "application/vnd.jupyter.widget-view+json": {
       "model_id": "83312113482e4c449c4a0af2952191ae",
       "version_major": 2,
       "version_minor": 0
      },
      "text/plain": [
       "1_Pooling/config.json:   0%|          | 0.00/190 [00:00<?, ?B/s]"
      ]
     },
     "metadata": {},
     "output_type": "display_data"
    }
   ],
   "source": [
    "tokenizer = AutoTokenizer.from_pretrained(\"Qwen/Qwen2.5-14B-Instruct\")\n",
    "\n",
    "Settings.embed_model = HuggingFaceEmbedding(\n",
    "    model_name = \"BAAI/bge-base-en-v1.5\"\n",
    ")\n",
    "\n",
    "set_global_tokenizer(tokenizer.encode)"
   ]
  },
  {
   "cell_type": "code",
   "execution_count": 3,
   "id": "d87af5b7-a077-419a-becc-f4519a35defc",
   "metadata": {},
   "outputs": [],
   "source": [
    "data_dir = \"/notebooks/ttlg/output/\"\n",
    "tags = []\n",
    "html_docs = []\n",
    "for ext in [\"*.html\"]:\n",
    "    for path in Path(data_dir).rglob(ext):\n",
    "        with open(path, \"rb\") as file:\n",
    "            html_text = file.read().decode(\"windows-1252\")\n",
    "            soup = BeautifulSoup(html_text)\n",
    "            tags.extend([tag.name for tag in soup.find_all()])\n",
    "            html_docs.append(Document(text=html_text))\n"
   ]
  },
  {
   "cell_type": "code",
   "execution_count": 4,
   "id": "37d3f4e5-24d1-4de7-8136-e6bb8ccb7ccf",
   "metadata": {},
   "outputs": [
    {
     "data": {
      "text/plain": [
       "143"
      ]
     },
     "execution_count": 4,
     "metadata": {},
     "output_type": "execute_result"
    }
   ],
   "source": [
    "len(html_docs)"
   ]
  },
  {
   "cell_type": "code",
   "execution_count": 5,
   "id": "d9cc5420-1761-4b19-bdd4-7bd391d2d5a0",
   "metadata": {},
   "outputs": [
    {
     "name": "stdout",
     "output_type": "stream",
     "text": [
      "143\n"
     ]
    }
   ],
   "source": [
    "# tags = [\"p\", \"h1\", \"h2\", \"h3\", \"h4\", \"h5\", \"h6\", \"li\", \"b\", \"i\", \"u\", \"section\", \"blockquote\", 'pagetitle']\n",
    "tags = [\"blockquote\", 'pagetitle']\n",
    "\n",
    "parser = HTMLNodeParser(tags=tags)\n",
    "nodes = parser.get_nodes_from_documents(html_docs)\n",
    "print(len(nodes))"
   ]
  },
  {
   "cell_type": "code",
   "execution_count": 6,
   "id": "02edc31d-e579-4ad8-a3e2-ae2e7cb590c1",
   "metadata": {},
   "outputs": [],
   "source": [
    "def drop(name):\n",
    "    with psycopg.connect(\n",
    "        \"host=postgres dbname=grover user=grover password=grover\"\n",
    "    ) as conn:\n",
    "        with conn.cursor() as cur:\n",
    "            cur.execute(f\"\"\"\n",
    "                drop table if exists {name};\n",
    "                \"\"\")\n",
    "            conn.commit()\n",
    "\n",
    "\n",
    "drop(\"data_html\")"
   ]
  },
  {
   "cell_type": "code",
   "execution_count": 7,
   "id": "09ff3eac-67e0-4ca5-8e0e-e3c99341750c",
   "metadata": {},
   "outputs": [],
   "source": [
    "vector_store = PGVectorStore.from_params(\n",
    "    database=\"grover\",\n",
    "    host=\"postgres\",\n",
    "    password=\"grover\",\n",
    "    port=5432,\n",
    "    user=\"grover\",\n",
    "    table_name=\"html\",\n",
    "    embed_dim=768,\n",
    "    hnsw_kwargs={\n",
    "        \"hnsw_m\": 14,\n",
    "        \"hnsw_ef_construction\": 72,\n",
    "        \"hnsw_ef_search\": 52,\n",
    "        \"hnsw_dist_method\": \"vector_cosine_ops\",\n",
    "    },\n",
    ")\n",
    "storage_context = StorageContext.from_defaults(vector_store=vector_store)"
   ]
  },
  {
   "cell_type": "code",
   "execution_count": 8,
   "id": "819912f0-6765-431e-b24e-c0172b02a4fd",
   "metadata": {},
   "outputs": [
    {
     "data": {
      "application/vnd.jupyter.widget-view+json": {
       "model_id": "17a1725514a749fea8bbf069e8ed6e18",
       "version_major": 2,
       "version_minor": 0
      },
      "text/plain": [
       "Generating embeddings:   0%|          | 0/143 [00:00<?, ?it/s]"
      ]
     },
     "metadata": {},
     "output_type": "display_data"
    }
   ],
   "source": [
    "index = VectorStoreIndex(nodes, storage_context=storage_context, show_progress=True, embed_model=Settings.embed_model)"
   ]
  },
  {
   "cell_type": "code",
   "execution_count": null,
   "id": "61e56d68-8269-4a7b-9be2-cbb738f12c3f",
   "metadata": {},
   "outputs": [
    {
     "name": "stdout",
     "output_type": "stream",
     "text": [
      "Downloading url https://huggingface.co/bartowski/Qwen2.5-14B_Uncensored_Instruct-GGUF/resolve/main/Qwen2.5-14B_Uncensored_Instruct-Q6_K.gguf?download=true to path /tmp/llama_index/models/Qwen2.5-14B_Uncensored_Instruct-Q6_K.gguf?download=true\n",
      "total size (MB): 12124.68\n"
     ]
    },
    {
     "name": "stderr",
     "output_type": "stream",
     "text": [
      "  2%|▏         | 229/11562 [00:27<29:09,  6.48it/s]"
     ]
    }
   ],
   "source": [
    "def completion_to_prompt(completion):\n",
    "   return f\"<|im_start|>system\\n<|im_end|>\\n<|im_start|>user\\n{completion}<|im_end|>\\n<|im_start|>assistant\\n\"\n",
    "\n",
    "def messages_to_prompt(messages):\n",
    "    prompt = \"\"\n",
    "    for message in messages:\n",
    "        if message.role == \"system\":\n",
    "            prompt += f\"<|im_start|>system\\n{message.content}<|im_end|>\\n\"\n",
    "        elif message.role == \"user\":\n",
    "            prompt += f\"<|im_start|>user\\n{message.content}<|im_end|>\\n\"\n",
    "        elif message.role == \"assistant\":\n",
    "            prompt += f\"<|im_start|>assistant\\n{message.content}<|im_end|>\\n\"\n",
    "\n",
    "    if not prompt.startswith(\"<|im_start|>system\"):\n",
    "        prompt = \"<|im_start|>system\\n\" + prompt\n",
    "\n",
    "    prompt = prompt + \"<|im_start|>assistant\\n\"\n",
    "\n",
    "    return prompt\n",
    "\n",
    "llm = LlamaCPP(\n",
    "    model_url=\"https://huggingface.co/bartowski/Qwen2.5-14B_Uncensored_Instruct-GGUF/resolve/main/Qwen2.5-14B_Uncensored_Instruct-Q6_K.gguf?download=true\",\n",
    "    temperature=0.1,\n",
    "    max_new_tokens=1024,\n",
    "    context_window=8192,\n",
    "    generate_kwargs={\"repeat_penalty\": 1.1, \"top_k\": 0, \"top_p\": 0.5, \"min_p\": 0.1},\n",
    "    model_kwargs={\n",
    "        \"n_gpu_layers\": -1,\n",
    "    },\n",
    "    messages_to_prompt=messages_to_prompt,\n",
    "    completion_to_prompt=completion_to_prompt,\n",
    "    verbose=True,\n",
    ")\n",
    "\n",
    "Settings.llm = llm"
   ]
  },
  {
   "cell_type": "code",
   "execution_count": null,
   "id": "c6b7bacc-c69d-41fa-a2d4-97606a19e286",
   "metadata": {},
   "outputs": [],
   "source": [
    "llm.complete('Using the provided context, answer the following query: What controversial subject is often discussed on the Through The Looking Glass (TTLG) forums?')"
   ]
  },
  {
   "cell_type": "code",
   "execution_count": null,
   "id": "07be1afd-e328-47d5-afd1-cb49b9bdc1db",
   "metadata": {},
   "outputs": [],
   "source": [
    "print(\n",
    "    index.as_query_engine().query(\n",
    "        'Using the provided context, answer the following query: What controversial subject is often discussed on the Through The Looking Glass (TTLG) forums?'\n",
    "    )\n",
    ")"
   ]
  }
 ],
 "metadata": {
  "kernelspec": {
   "display_name": "Python 3 (ipykernel)",
   "language": "python",
   "name": "python3"
  },
  "language_info": {
   "codemirror_mode": {
    "name": "ipython",
    "version": 3
   },
   "file_extension": ".py",
   "mimetype": "text/x-python",
   "name": "python",
   "nbconvert_exporter": "python",
   "pygments_lexer": "ipython3",
   "version": "3.12.7"
  }
 },
 "nbformat": 4,
 "nbformat_minor": 5
}
